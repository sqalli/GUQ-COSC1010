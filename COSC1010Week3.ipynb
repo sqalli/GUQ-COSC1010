{
  "nbformat": 4,
  "nbformat_minor": 0,
  "metadata": {
    "colab": {
      "provenance": [],
      "authorship_tag": "ABX9TyPypwMwaje3eIGBC1x625TK",
      "include_colab_link": true
    },
    "kernelspec": {
      "name": "python3",
      "display_name": "Python 3"
    },
    "language_info": {
      "name": "python"
    }
  },
  "cells": [
    {
      "cell_type": "markdown",
      "metadata": {
        "id": "view-in-github",
        "colab_type": "text"
      },
      "source": [
        "<a href=\"https://colab.research.google.com/github/sqalli/GUQ-COSC1010/blob/main/COSC1010Week3.ipynb\" target=\"_parent\"><img src=\"https://colab.research.google.com/assets/colab-badge.svg\" alt=\"Open In Colab\"/></a>"
      ]
    },
    {
      "cell_type": "markdown",
      "source": [
        "# Variables"
      ],
      "metadata": {
        "id": "jS7u7FmUh_zy"
      }
    },
    {
      "cell_type": "code",
      "source": [
        "a = 2\n",
        "a = 3.2\n",
        "a = a + 1\n",
        "b = a\n",
        "b = 8"
      ],
      "metadata": {
        "id": "0_lih7dXiFxH"
      },
      "execution_count": null,
      "outputs": []
    },
    {
      "cell_type": "code",
      "source": [
        "print (a)\n",
        "print (b)"
      ],
      "metadata": {
        "colab": {
          "base_uri": "https://localhost:8080/"
        },
        "id": "LkHjUxVpjX0p",
        "outputId": "9938b507-cad6-4cce-93a2-4a09f98f3fbb"
      },
      "execution_count": null,
      "outputs": [
        {
          "output_type": "stream",
          "name": "stdout",
          "text": [
            "4.2\n",
            "8\n"
          ]
        }
      ]
    },
    {
      "cell_type": "code",
      "source": [
        "a = [11, 12, 3]\n",
        "a = salam"
      ],
      "metadata": {
        "id": "yQSARYB6jfc8"
      },
      "execution_count": null,
      "outputs": []
    },
    {
      "cell_type": "markdown",
      "source": [
        "# Input/Output"
      ],
      "metadata": {
        "id": "ToMxl8eN3hZJ"
      }
    },
    {
      "cell_type": "markdown",
      "source": [
        "**Georgetown** Qatar is home to different nationalities, and one specific characteristic conversation starter in Qatar is the weather. Write a program that converts a temperature value from Fahrenheit degrees to Celsius degrees to be able to communicate to your American friends."
      ],
      "metadata": {
        "id": "GaRuCDu73lny"
      }
    },
    {
      "cell_type": "code",
      "source": [
        "t_f = float (input (\"Provide the temperature in Farenheit: \"))\n",
        "t_c = (t_f - 32) * 5/9\n",
        "print (f\"The temperature in Farenheit is: {t_c}\")"
      ],
      "metadata": {
        "colab": {
          "base_uri": "https://localhost:8080/"
        },
        "id": "5NhRBGxg3ky5",
        "outputId": "772d374f-89a5-4445-fe6b-fe11b9502a67"
      },
      "execution_count": null,
      "outputs": [
        {
          "output_type": "stream",
          "name": "stdout",
          "text": [
            "Provide the temperature in Farenheit: 10\n",
            "The temperature in Farenheit is: -12.222222222222221\n"
          ]
        }
      ]
    },
    {
      "cell_type": "markdown",
      "source": [
        "# Conditional Statements"
      ],
      "metadata": {
        "id": "fO85ILEq3Fte"
      }
    },
    {
      "cell_type": "markdown",
      "source": [
        "\n",
        "\n",
        "```\n",
        "# This is formatted as code\n",
        "```\n",
        "\n",
        "Write a program that gets the grade from the user and converts it into a letter grade"
      ],
      "metadata": {
        "id": "kWv8Xdfw9HSX"
      }
    },
    {
      "cell_type": "code",
      "source": [
        "grade_num = float (input(\"Provide your numerical grade: \"))\n",
        "if (grade_num) >= 90:\n",
        "  letter_grade = 'A'\n",
        "elif(grade_num >= 80 and grade_num < 90):\n",
        "  letter_grade = 'B'\n",
        "elif (grade_num >= 70 and grade_num < 80):\n",
        "  letter_grade = 'C'\n",
        "else:\n",
        "  letter_grade = 'F'\n",
        "print (f\"Your letter grade is: {letter_grade}\")"
      ],
      "metadata": {
        "colab": {
          "base_uri": "https://localhost:8080/"
        },
        "id": "Lxo9x1GR80av",
        "outputId": "24e3aa8b-328e-45fd-a1d7-2ebbaa99e647"
      },
      "execution_count": null,
      "outputs": [
        {
          "output_type": "stream",
          "name": "stdout",
          "text": [
            "Provide your numerical grade: 77.5\n",
            "Your letter grade is: C\n"
          ]
        }
      ]
    }
  ]
}